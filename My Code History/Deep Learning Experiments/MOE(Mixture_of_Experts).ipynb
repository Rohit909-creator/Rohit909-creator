{
  "nbformat": 4,
  "nbformat_minor": 0,
  "metadata": {
    "colab": {
      "provenance": []
    },
    "kernelspec": {
      "name": "python3",
      "display_name": "Python 3"
    },
    "language_info": {
      "name": "python"
    }
  },
  "cells": [
    {
      "cell_type": "code",
      "execution_count": null,
      "metadata": {
        "id": "B3A0tbPM5Vrx"
      },
      "outputs": [],
      "source": [
        "import torch\n",
        "import torch.nn as nn\n",
        "\n",
        "class GatingNetwork(nn.Module):\n",
        "\n",
        "  def __init__(self, input_size: int ,output_size:int):\n",
        "    super().__init__()\n",
        "    self.fc1 = nn.Linear(input_size, output_size)\n",
        "    self.softmax = nn.Softmax(dim=-1)\n",
        "  def forward(self, x):\n",
        "    logits = self.fc1(x)\n",
        "    gating_weights = self.softmax(logits)\n",
        "    return gating_weights\n",
        "\n",
        "class Expert1(nn.Module):\n",
        "  def __init__(self, input_size, hidden_size, output_size):\n",
        "    super().__init__()\n",
        "    self.ff = nn.Sequential(\n",
        "        nn.Linear(input_size, hidden_size),\n",
        "        nn.ReLU(),\n",
        "        nn.Linear(hidden_size, output_size),\n",
        "        nn.ReLU()\n",
        "    )\n",
        "  def forward(self, x):\n",
        "    return self.ff(x)\n",
        "\n",
        "class Expert2(nn.Module):\n",
        "\n",
        "  def __init__(self, input_size, hidden_size, output_size):\n",
        "    super().__init__()\n",
        "    self.ff = nn.Sequential(\n",
        "        nn.Linear(input_size, hidden_size),\n",
        "        nn.ReLU(),\n",
        "        nn.Linear(hidden_size, output_size),\n",
        "        nn.ReLU()\n",
        "    )\n",
        "  def forward(self, x):\n",
        "    return self.ff(x)\n",
        "\n",
        "class MOE(nn.Module):\n",
        "\n",
        "  def __init__(self, gating_network : GatingNetwork, input_size, hidden_size, output_size, top_k=2):\n",
        "    super().__init__()\n",
        "    self.gating_network = gating_network\n",
        "    self.experts = nn.ModuleList([Expert1(input_size, hidden_size, 4), Expert2(input_size, hidden_size, 4)])\n",
        "    self.top_k = top_k\n",
        "\n",
        "  def forward(self, x):\n",
        "\n",
        "    gating_weights = self.gating_network(x)\n",
        "    topk_weights, topk_indices = torch.topk(gating_weights, self.top_k, dim=1)\n",
        "    expert_outputs = [expert(x) for expert in self.experts]\n",
        "\n",
        "    expert_outputs = torch.stack(expert_outputs)\n",
        "    print(topk_weights.shape, expert_outputs.shape)\n",
        "    combined_output = topk_weights@expert_outputs.squeeze(1)\n",
        "    combined_output = combined_output\n",
        "\n",
        "    return combined_output\n",
        "\n",
        "\n",
        "\n",
        "\n"
      ]
    },
    {
      "cell_type": "code",
      "source": [
        "gating_network = GatingNetwork(3,2)\n",
        "model = MOE(gating_network, 3, 10, 2)\n",
        "x = torch.randn((1,3))\n",
        "model(x)"
      ],
      "metadata": {
        "colab": {
          "base_uri": "https://localhost:8080/"
        },
        "id": "00G0jKOA8XIU",
        "outputId": "158a0a38-d6d1-4fc6-bb53-de87ac76017b"
      },
      "execution_count": null,
      "outputs": [
        {
          "output_type": "stream",
          "name": "stdout",
          "text": [
            "torch.Size([1, 2]) torch.Size([2, 1, 4])\n"
          ]
        },
        {
          "output_type": "execute_result",
          "data": {
            "text/plain": [
              "tensor([[0.3801, 0.6737, 0.0897, 0.0022]], grad_fn=<MmBackward0>)"
            ]
          },
          "metadata": {},
          "execution_count": 4
        }
      ]
    },
    {
      "cell_type": "code",
      "source": [
        "data1 = torch.arange(1,30)\n",
        "cos_data1 = torch.cos(data1)\n",
        "sin_data1 = torch.sin(data1)\n",
        "print(cos_data1, sin_data1)"
      ],
      "metadata": {
        "colab": {
          "base_uri": "https://localhost:8080/"
        },
        "id": "KmRhS2qC-6Ro",
        "outputId": "2cd4df79-fba7-4e82-a74b-e26e4b10777c"
      },
      "execution_count": null,
      "outputs": [
        {
          "output_type": "stream",
          "name": "stdout",
          "text": [
            "tensor([ 0.5403, -0.4161, -0.9900, -0.6536,  0.2837,  0.9602,  0.7539, -0.1455,\n",
            "        -0.9111, -0.8391,  0.0044,  0.8439,  0.9074,  0.1367, -0.7597, -0.9577,\n",
            "        -0.2752,  0.6603,  0.9887,  0.4081, -0.5477, -1.0000, -0.5328,  0.4242,\n",
            "         0.9912,  0.6469, -0.2921, -0.9626, -0.7481]) tensor([ 0.8415,  0.9093,  0.1411, -0.7568, -0.9589, -0.2794,  0.6570,  0.9894,\n",
            "         0.4121, -0.5440, -1.0000, -0.5366,  0.4202,  0.9906,  0.6503, -0.2879,\n",
            "        -0.9614, -0.7510,  0.1499,  0.9129,  0.8367, -0.0089, -0.8462, -0.9056,\n",
            "        -0.1324,  0.7626,  0.9564,  0.2709, -0.6636])\n"
          ]
        }
      ]
    },
    {
      "cell_type": "code",
      "source": [],
      "metadata": {
        "id": "PTXZvvY2Hbca"
      },
      "execution_count": null,
      "outputs": []
    }
  ]
}
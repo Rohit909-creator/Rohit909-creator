{
  "nbformat": 4,
  "nbformat_minor": 0,
  "metadata": {
    "colab": {
      "provenance": []
    },
    "kernelspec": {
      "name": "python3",
      "display_name": "Python 3"
    },
    "language_info": {
      "name": "python"
    }
  },
  "cells": [
    {
      "cell_type": "code",
      "execution_count": null,
      "metadata": {
        "colab": {
          "base_uri": "https://localhost:8080/",
          "height": 807
        },
        "id": "a-jW3HUcdB-Q",
        "outputId": "f85359e1-96f9-491a-8c95-b8cfe0b9627c"
      },
      "outputs": [
        {
          "output_type": "display_data",
          "data": {
            "text/plain": [
              "<Figure size 1000x1000 with 2 Axes>"
            ],
            "image/png": "[encoded data removed]"
          },
          "metadata": {}
        }
      ],
      "source": [
        "import torch\n",
        "import torch.nn as nn\n",
        "import numpy as np\n",
        "import matplotlib.pyplot as plt\n",
        "\n",
        "# Define the SOM class\n",
        "class SelfOrganizingMap(nn.Module):\n",
        "    def __init__(self, input_size, som_shape, learning_rate=0.1):\n",
        "        super(SelfOrganizingMap, self).__init__()\n",
        "        self.som_shape = som_shape\n",
        "        self.weights = nn.Parameter(torch.randn(som_shape[0] * som_shape[1], input_size))\n",
        "        self.learning_rate = learning_rate\n",
        "\n",
        "    def forward(self, x):\n",
        "        x = x.view(x.size(0), -1)  # Flatten the input\n",
        "        x = x.unsqueeze(1)  # Add a new dimension for batch\n",
        "        distances = torch.norm(x - self.weights, dim=2)\n",
        "        bmu_indices = torch.argmin(distances, dim=1)\n",
        "        return bmu_indices\n",
        "\n",
        "    def update_weights(self, x, bmu_indices):\n",
        "      for i, bmu_index in enumerate(bmu_indices):\n",
        "          updated_weights = self.weights.clone()  # Create a copy to update\n",
        "          updated_weights[bmu_index] += self.learning_rate * (x[i] - updated_weights[bmu_index])\n",
        "          self.weights.data = updated_weights  # Update weights using .data\n",
        "\n",
        "\n",
        "# Generate synthetic data\n",
        "data = np.random.rand(100, 2)\n",
        "\n",
        "# Normalize data to [0, 1]\n",
        "data = (data - np.min(data)) / (np.max(data) - np.min(data))\n",
        "\n",
        "# Convert to PyTorch tensor\n",
        "data_tensor = torch.FloatTensor(data)\n",
        "\n",
        "# Define SOM parameters\n",
        "input_size = 2\n",
        "som_shape = (10, 10)\n",
        "learning_rate = 0.1\n",
        "num_epochs = 1000\n",
        "\n",
        "# Create the SOM\n",
        "som = SelfOrganizingMap(input_size, som_shape, learning_rate)\n",
        "\n",
        "# Training loop\n",
        "for epoch in range(num_epochs):\n",
        "    bmu_indices = som(data_tensor)\n",
        "    som.update_weights(data_tensor, bmu_indices)\n",
        "\n",
        "# Get the final weight matrix\n",
        "# Convert the final weight matrix to NumPy\n",
        "# Convert the final weight matrix to NumPy\n",
        "final_weights = som.weights.data.cpu().numpy()\n",
        "\n",
        "# Reshape weights to match SOM grid\n",
        "reshaped_weights = final_weights.reshape(*som_shape, input_size)\n",
        "\n",
        "# Visualize the SOM with a heatmap-like visualization\n",
        "plt.figure(figsize=(10, 10))\n",
        "plt.imshow(reshaped_weights.sum(axis=2), cmap='hot', interpolation='none')\n",
        "plt.colorbar()\n",
        "plt.show()\n"
      ]
    },
    {
      "cell_type": "code",
      "source": [
        "import torch\n",
        "import torch.nn as nn\n",
        "import numpy as np\n",
        "import matplotlib.pyplot as plt\n",
        "\n",
        "\n",
        "class SOM(nn.Module):\n",
        "\n",
        "  def __init__(self, input_size, som_shape, learning_rate=0.1):\n",
        "    super().__init__()\n",
        "\n",
        "    self.som_shape = som_shape\n",
        "    self.weights = nn.Parameter(torch.randn(som_shape[0]*som_shape[1],input_size))\n",
        "    self.learning_rate = learning_rate\n",
        "\n",
        "  def forward(self, x):\n",
        "\n",
        "    x = x.view(x.size(0), -1)\n",
        "    x = x.unsqueeze(1)\n",
        "\n",
        "    distances = torch.norm(x-self.weights,dim=2)\n",
        "    bmu_indices = torch.argmin(distances,dim=1)\n",
        "    return bmu_indices\n",
        "\n",
        "  def update_weights(self, x, bmu_indices):\n",
        "\n",
        "    for i, bmu_index in enumerate(bmu_indices):\n",
        "      updated_weights = self.weights.clone()\n",
        "      updated_weights[bmu_index] += self.learning_rate * (x[i] - updated_weights[bmu_index])\n",
        "      self.weights.data = updated_weights\n",
        "\n",
        "\n",
        "# model = SOM(8, (10,10))\n",
        "# x = torch.randn((10,8))\n",
        "# out = model(x)\n",
        "# print(out)\n",
        "\n",
        "# Generate synthetic data\n",
        "data = np.random.rand(100, 2)\n",
        "\n",
        "# Normalize data to [0, 1]\n",
        "data = (data - np.min(data)) / (np.max(data) - np.min(data))\n",
        "\n",
        "# Convert to PyTorch tensor\n",
        "data_tensor = torch.FloatTensor(data)\n",
        "\n",
        "# Define SOM parameters\n",
        "input_size = 2\n",
        "som_shape = (10, 10)\n",
        "learning_rate = 0.1\n",
        "num_epochs = 1000\n",
        "\n",
        "# Create the SOM\n",
        "som = SOM(input_size, som_shape, learning_rate)\n",
        "\n",
        "# Training loop\n",
        "for epoch in range(num_epochs):\n",
        "    bmu_indices = som(data_tensor)\n",
        "    som.update_weights(data_tensor, bmu_indices)\n",
        "\n",
        "# Get the final weight matrix\n",
        "final_weights = som.weights.data.numpy()\n",
        "\n",
        "# Visualize the SOM\n",
        "plt.imshow(final_weights.reshape(100,input_size))\n",
        "plt.show()"
      ],
      "metadata": {
        "id": "YkH9Tkh-dESf",
        "colab": {
          "base_uri": "https://localhost:8080/",
          "height": 433
        },
        "outputId": "f695c12a-7ad3-4e75-c34b-6b19344e75b7"
      },
      "execution_count": null,
      "outputs": [
        {
          "output_type": "display_data",
          "data": {
            "text/plain": [
              "<Figure size 640x480 with 1 Axes>"
            ],
            "image/png": "[encoded data removed]"
          },
          "metadata": {}
        }
      ]
    },
    {
      "cell_type": "code",
      "source": [],
      "metadata": {
        "id": "6uu5XpXt5v4B"
      },
      "execution_count": null,
      "outputs": []
    }
  ]
}